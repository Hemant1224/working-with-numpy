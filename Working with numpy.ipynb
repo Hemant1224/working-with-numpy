{
 "cells": [
  {
   "cell_type": "code",
   "execution_count": 2,
   "id": "da76da7f",
   "metadata": {},
   "outputs": [],
   "source": [
    "import numpy as np"
   ]
  },
  {
   "cell_type": "code",
   "execution_count": 3,
   "id": "81683d6b",
   "metadata": {},
   "outputs": [
    {
     "name": "stdout",
     "output_type": "stream",
     "text": [
      "[4, 5, 3, 7, 5, 2]\n"
     ]
    }
   ],
   "source": [
    "a = [4,5,3]\n",
    "b = [7,5,2]\n",
    "print(a+b)"
   ]
  },
  {
   "cell_type": "code",
   "execution_count": 4,
   "id": "a2cc0d1a",
   "metadata": {},
   "outputs": [],
   "source": [
    "# list are \"not mathematical entities\" they are data entities\n",
    "# array can have mathematical calculation or operation"
   ]
  },
  {
   "cell_type": "code",
   "execution_count": 6,
   "id": "8a259be9",
   "metadata": {},
   "outputs": [
    {
     "name": "stdout",
     "output_type": "stream",
     "text": [
      "[5 4 5]\n"
     ]
    }
   ],
   "source": [
    "a = np.array([1,2,4])\n",
    "b = np.array([4,2,1])\n",
    "print(a+b)"
   ]
  },
  {
   "cell_type": "code",
   "execution_count": 7,
   "id": "14320755",
   "metadata": {},
   "outputs": [
    {
     "data": {
      "text/plain": [
       "array([[4, 2, 6],\n",
       "       [2, 3, 4],\n",
       "       [6, 1, 5]])"
      ]
     },
     "execution_count": 7,
     "metadata": {},
     "output_type": "execute_result"
    }
   ],
   "source": [
    "# with numpy array can create a multi-dimensional array\n",
    "m = np.array([[4,2,6],[2,3,4],[6,1,5]])\n",
    "m"
   ]
  },
  {
   "cell_type": "code",
   "execution_count": 8,
   "id": "7abfaa2b",
   "metadata": {},
   "outputs": [
    {
     "data": {
      "text/plain": [
       "1"
      ]
     },
     "execution_count": 8,
     "metadata": {},
     "output_type": "execute_result"
    }
   ],
   "source": [
    "# for calculating the dimension\n",
    "a.ndim"
   ]
  },
  {
   "cell_type": "code",
   "execution_count": 9,
   "id": "eaa529db",
   "metadata": {},
   "outputs": [
    {
     "data": {
      "text/plain": [
       "(3,)"
      ]
     },
     "execution_count": 9,
     "metadata": {},
     "output_type": "execute_result"
    }
   ],
   "source": [
    "a.shape"
   ]
  },
  {
   "cell_type": "code",
   "execution_count": 10,
   "id": "fcd5f531",
   "metadata": {},
   "outputs": [
    {
     "data": {
      "text/plain": [
       "2"
      ]
     },
     "execution_count": 10,
     "metadata": {},
     "output_type": "execute_result"
    }
   ],
   "source": [
    "m.ndim"
   ]
  },
  {
   "cell_type": "code",
   "execution_count": 11,
   "id": "a4498447",
   "metadata": {},
   "outputs": [
    {
     "data": {
      "text/plain": [
       "(3, 3)"
      ]
     },
     "execution_count": 11,
     "metadata": {},
     "output_type": "execute_result"
    }
   ],
   "source": [
    "m.shape"
   ]
  },
  {
   "cell_type": "code",
   "execution_count": 12,
   "id": "57b9ed5a",
   "metadata": {},
   "outputs": [
    {
     "name": "stdout",
     "output_type": "stream",
     "text": [
      "1\n",
      "6\n",
      "3.6666666666666665\n",
      "1.699673171197595\n"
     ]
    }
   ],
   "source": [
    "print(m.min())\n",
    "print(m.max())\n",
    "print(m.mean())\n",
    "print(m.std())"
   ]
  },
  {
   "cell_type": "markdown",
   "id": "584f854a",
   "metadata": {},
   "source": [
    "### Mathematical calculation with numpy"
   ]
  },
  {
   "cell_type": "code",
   "execution_count": 15,
   "id": "664b33dc",
   "metadata": {},
   "outputs": [
    {
     "data": {
      "text/plain": [
       "array([[4, 2, 6],\n",
       "       [2, 3, 4],\n",
       "       [6, 1, 5]])"
      ]
     },
     "execution_count": 15,
     "metadata": {},
     "output_type": "execute_result"
    }
   ],
   "source": [
    "m"
   ]
  },
  {
   "cell_type": "code",
   "execution_count": 16,
   "id": "b1079594",
   "metadata": {},
   "outputs": [
    {
     "name": "stdout",
     "output_type": "stream",
     "text": [
      "3.6666666666666665 4.0 1.699673171197595 2.888888888888889\n"
     ]
    }
   ],
   "source": [
    "print(np.mean(m), np.median(m), np.std(m), np.var(m))"
   ]
  },
  {
   "cell_type": "code",
   "execution_count": 17,
   "id": "13826cca",
   "metadata": {},
   "outputs": [
    {
     "name": "stdout",
     "output_type": "stream",
     "text": [
      "1.0\n"
     ]
    }
   ],
   "source": [
    "print(np.sin(np.deg2rad(90)))"
   ]
  },
  {
   "cell_type": "code",
   "execution_count": 18,
   "id": "76333edc",
   "metadata": {},
   "outputs": [
    {
     "name": "stdout",
     "output_type": "stream",
     "text": [
      "3.0\n",
      "3.4903429574618414\n"
     ]
    }
   ],
   "source": [
    "print(np.log10(1000))\n",
    "print(np.exp(1.25))"
   ]
  },
  {
   "cell_type": "markdown",
   "id": "01a2ee1f",
   "metadata": {},
   "source": [
    "## Generating array with numpy"
   ]
  },
  {
   "cell_type": "code",
   "execution_count": 19,
   "id": "1a8905ec",
   "metadata": {},
   "outputs": [
    {
     "data": {
      "text/plain": [
       "array([ 3. ,  4.5,  6. ,  7.5,  9. , 10.5, 12. , 13.5, 15. , 16.5, 18. ,\n",
       "       19.5, 21. , 22.5, 24. ])"
      ]
     },
     "execution_count": 19,
     "metadata": {},
     "output_type": "execute_result"
    }
   ],
   "source": [
    "x = np.arange(start=3, stop=25,step=1.5)\n",
    "x"
   ]
  },
  {
   "cell_type": "code",
   "execution_count": 22,
   "id": "af70ecb9",
   "metadata": {},
   "outputs": [
    {
     "data": {
      "text/plain": [
       "array([ 3.,  5.,  7.,  9., 11., 13., 15., 17., 19., 21., 23., 25.])"
      ]
     },
     "execution_count": 22,
     "metadata": {},
     "output_type": "execute_result"
    }
   ],
   "source": [
    "x= np.linspace(start=3 , stop=25, num = 12)\n",
    "x"
   ]
  },
  {
   "cell_type": "code",
   "execution_count": 24,
   "id": "6eea0928",
   "metadata": {},
   "outputs": [
    {
     "data": {
      "text/plain": [
       "array([0., 0., 0., 0., 0.])"
      ]
     },
     "execution_count": 24,
     "metadata": {},
     "output_type": "execute_result"
    }
   ],
   "source": [
    "x= np.zeros(5)\n",
    "x"
   ]
  },
  {
   "cell_type": "code",
   "execution_count": 26,
   "id": "4fd0f824",
   "metadata": {},
   "outputs": [
    {
     "data": {
      "text/plain": [
       "array([[1., 1., 1., 1.],\n",
       "       [1., 1., 1., 1.]])"
      ]
     },
     "execution_count": 26,
     "metadata": {},
     "output_type": "execute_result"
    }
   ],
   "source": [
    "x = np.ones((2,4))\n",
    "x"
   ]
  },
  {
   "cell_type": "markdown",
   "id": "81637224",
   "metadata": {},
   "source": [
    "## Genearte random numbers with numpy"
   ]
  },
  {
   "cell_type": "code",
   "execution_count": 28,
   "id": "a5459cce",
   "metadata": {},
   "outputs": [
    {
     "data": {
      "text/plain": [
       "array([0.42891299, 0.60182371, 0.18311113, 0.40112423, 0.02739504,\n",
       "       0.85572084, 0.45385296, 0.97387869, 0.31374679, 0.71500837])"
      ]
     },
     "execution_count": 28,
     "metadata": {},
     "output_type": "execute_result"
    }
   ],
   "source": [
    "# generating an array with uniform distribution b/w 0  and 1\n",
    "x = np.random.rand(10)\n",
    "x"
   ]
  },
  {
   "cell_type": "code",
   "execution_count": 33,
   "id": "f9213193",
   "metadata": {},
   "outputs": [
    {
     "data": {
      "text/plain": [
       "array([-0.92849713,  0.6086051 , -0.65053641, -0.35508374,  0.56274928,\n",
       "        1.42432703,  2.97444996, -0.7171844 ,  0.171231  ,  0.56087752])"
      ]
     },
     "execution_count": 33,
     "metadata": {},
     "output_type": "execute_result"
    }
   ],
   "source": [
    "# genrating normal distribution with mean =0 and std = -1\n",
    "x = np.random.randn(10)\n",
    "x"
   ]
  },
  {
   "cell_type": "code",
   "execution_count": 35,
   "id": "ad746fbc",
   "metadata": {},
   "outputs": [
    {
     "data": {
      "text/plain": [
       "array([87, 19, 24, 97, 21])"
      ]
     },
     "execution_count": 35,
     "metadata": {},
     "output_type": "execute_result"
    }
   ],
   "source": [
    "# generate integer random numbers\n",
    "x = np.random.randint(10,100,5)\n",
    "x"
   ]
  },
  {
   "cell_type": "code",
   "execution_count": 37,
   "id": "28a3977c",
   "metadata": {},
   "outputs": [
    {
     "data": {
      "text/plain": [
       "array([34, 13, 66, 82, 10])"
      ]
     },
     "execution_count": 37,
     "metadata": {},
     "output_type": "execute_result"
    }
   ],
   "source": [
    "# use same random numbers\n",
    "np.random.seed(3)\n",
    "# generate integer random numbers\n",
    "x = np.random.randint(10,100,5)\n",
    "x"
   ]
  },
  {
   "cell_type": "code",
   "execution_count": 38,
   "id": "7796ed90",
   "metadata": {},
   "outputs": [
    {
     "data": {
      "text/plain": [
       "array([34, 13, 66, 82, 10])"
      ]
     },
     "execution_count": 38,
     "metadata": {},
     "output_type": "execute_result"
    }
   ],
   "source": [
    "np.random.seed(3)\n",
    "# generate integer random numbers\n",
    "x = np.random.randint(10,100,5)\n",
    "x"
   ]
  },
  {
   "cell_type": "markdown",
   "id": "d5b78668",
   "metadata": {},
   "source": [
    "### Linear Algebra with Numpy"
   ]
  },
  {
   "cell_type": "code",
   "execution_count": 39,
   "id": "c130a34c",
   "metadata": {},
   "outputs": [
    {
     "data": {
      "text/plain": [
       "array([[4, 2, 6],\n",
       "       [2, 3, 4],\n",
       "       [6, 1, 5]])"
      ]
     },
     "execution_count": 39,
     "metadata": {},
     "output_type": "execute_result"
    }
   ],
   "source": [
    "m"
   ]
  },
  {
   "cell_type": "code",
   "execution_count": 40,
   "id": "0dd6aac1",
   "metadata": {},
   "outputs": [
    {
     "data": {
      "text/plain": [
       "array([[-0.45833333,  0.16666667,  0.41666667],\n",
       "       [-0.58333333,  0.66666667,  0.16666667],\n",
       "       [ 0.66666667, -0.33333333, -0.33333333]])"
      ]
     },
     "execution_count": 40,
     "metadata": {},
     "output_type": "execute_result"
    }
   ],
   "source": [
    "np.linalg.inv(m)"
   ]
  },
  {
   "cell_type": "code",
   "execution_count": 42,
   "id": "5cea286b",
   "metadata": {},
   "outputs": [
    {
     "data": {
      "text/plain": [
       "3"
      ]
     },
     "execution_count": 42,
     "metadata": {},
     "output_type": "execute_result"
    }
   ],
   "source": [
    "np.linalg.matrix_rank(m)"
   ]
  },
  {
   "cell_type": "code",
   "execution_count": 43,
   "id": "c6328458",
   "metadata": {},
   "outputs": [
    {
     "data": {
      "text/plain": [
       "-24.000000000000004"
      ]
     },
     "execution_count": 43,
     "metadata": {},
     "output_type": "execute_result"
    }
   ],
   "source": [
    "# determinant of the matrix\n",
    "np.linalg.det(m)"
   ]
  },
  {
   "cell_type": "markdown",
   "id": "baa98624",
   "metadata": {},
   "source": [
    "# Solve of X & Y \n",
    "3x - 4y = 1\n",
    "4x +2y = 16"
   ]
  },
  {
   "cell_type": "code",
   "execution_count": 45,
   "id": "f172ef40",
   "metadata": {},
   "outputs": [
    {
     "data": {
      "text/plain": [
       "array([3., 2.])"
      ]
     },
     "execution_count": 45,
     "metadata": {},
     "output_type": "execute_result"
    }
   ],
   "source": [
    "# create a list of coefficients\n",
    "a = [[3,-4],[4,2]]\n",
    "# list of constants\n",
    "b = [1,16]\n",
    "\n",
    "np.linalg.solve(a,b)"
   ]
  },
  {
   "cell_type": "code",
   "execution_count": null,
   "id": "8b3d3afe",
   "metadata": {},
   "outputs": [],
   "source": []
  }
 ],
 "metadata": {
  "kernelspec": {
   "display_name": "Python 3 (ipykernel)",
   "language": "python",
   "name": "python3"
  },
  "language_info": {
   "codemirror_mode": {
    "name": "ipython",
    "version": 3
   },
   "file_extension": ".py",
   "mimetype": "text/x-python",
   "name": "python",
   "nbconvert_exporter": "python",
   "pygments_lexer": "ipython3",
   "version": "3.9.12"
  }
 },
 "nbformat": 4,
 "nbformat_minor": 5
}
